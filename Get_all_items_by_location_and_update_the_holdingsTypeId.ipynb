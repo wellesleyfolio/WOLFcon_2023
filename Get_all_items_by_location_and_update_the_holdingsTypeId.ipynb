{
  "nbformat": 4,
  "nbformat_minor": 0,
  "metadata": {
    "colab": {
      "provenance": [],
      "collapsed_sections": [
        "L8tBfrAE1lWH"
      ]
    },
    "kernelspec": {
      "name": "python3",
      "display_name": "Python 3"
    },
    "language_info": {
      "name": "python"
    }
  },
  "cells": [
    {
      "cell_type": "markdown",
      "source": [
        "# Get all items by location, analyze, and update Holdings type\n",
        "\n",
        "This notebook fetches all items in a specified location and then updates the Holdings record type field in the Folio Holdings record."
      ],
      "metadata": {
        "id": "uzq7dzVGtKf3"
      }
    },
    {
      "cell_type": "markdown",
      "source": [
        "## Preparations"
      ],
      "metadata": {
        "id": "IEqMCq1l1Mio"
      }
    },
    {
      "cell_type": "markdown",
      "source": [
        "### Install modules\n",
        "Most modules that we will use are already installed on Google Colab. The below we need to actively install."
      ],
      "metadata": {
        "id": "UZqGFlEU1Tlc"
      }
    },
    {
      "cell_type": "code",
      "source": [
        "# We will use folioclient to communicate with FOLIO: https://pypi.org/project/folioclient/\n",
        "\n",
        "!pip install folioclient"
      ],
      "metadata": {
        "id": "3ieL4TvuJf8T"
      },
      "execution_count": null,
      "outputs": []
    },
    {
      "cell_type": "code",
      "source": [
        "# We will use xlsxwriter to create Excel files: https://pypi.org/project/XlsxWriter/ \n",
        "\n",
        "!pip install xlsxwriter"
      ],
      "metadata": {
        "id": "d-PUpoyly20S"
      },
      "execution_count": null,
      "outputs": []
    },
    {
      "cell_type": "markdown",
      "source": [
        "### Import modules\n",
        "Modules that are installed need to be imported, so that we can access them in our code."
      ],
      "metadata": {
        "id": "L8tBfrAE1lWH"
      }
    },
    {
      "metadata": {
        "id": "CjzimUZqDf39"
      },
      "cell_type": "code",
      "source": [
        "import requests\n",
        "import pandas\n",
        "from pandas import json_normalize\n",
        "from folioclient import FolioClient\n",
        "from getpass import getpass\n",
        "from google.colab import files"
      ],
      "execution_count": null,
      "outputs": []
    },
    {
      "cell_type": "markdown",
      "source": [
        "## Connect to FOLIO\n",
        "We log into FOLIO by providing the okapi URL and the tenant ID, as well as the username and password of a FOLIO user. FOLIO will return a token which contains information about which user we are acting as, and what permissions that user has.\n",
        "\n",
        "Note that tokens and passwords are sensitive data which should always be kept secret and secure."
      ],
      "metadata": {
        "id": "Er-4h3Ql1uHJ"
      }
    },
    {
      "cell_type": "markdown",
      "source": [
        "### Provide tenant information and credentials"
      ],
      "metadata": {
        "id": "br2a7ABsQmJA"
      }
    },
    {
      "cell_type": "code",
      "source": [
        "okapi_url = \"YOUR URL\"\n",
        "tenant_id = \"YOUR Tenant ID\"\n",
        "\n",
        "# The getpass module lets us enter credentials at runtime\n",
        "username = getpass('Enter username here: ')\n",
        "password = getpass('Enter password here: ')\n"
      ],
      "metadata": {
        "id": "OvJQd36qQrvu"
      },
      "execution_count": null,
      "outputs": []
    },
    {
      "cell_type": "markdown",
      "source": [
        "### Log into FOLIO\n",
        "We will use the FolioClient module to make requests to FOLIO."
      ],
      "metadata": {
        "id": "cEEZ5U8uQ-I_"
      }
    },
    {
      "cell_type": "code",
      "source": [
        "# This will log us into FOLIO, and temporarily store important information like the token in the background\n",
        "try:\n",
        "  folio_client = FolioClient(okapi_url, tenant_id, username, password)\n",
        "  print(f\"Successfully logged into FOLIO as user {username}\")\n",
        "except Exception as e:\n",
        "  print(e)"
      ],
      "metadata": {
        "id": "NcSqYML0QmZU"
      },
      "execution_count": null,
      "outputs": []
    },
    {
      "cell_type": "markdown",
      "source": [
        "## Design the search query\n",
        "This is the part where you specify what data you want to get from FOLIO."
      ],
      "metadata": {
        "id": "9OthLRJ13Vte"
      }
    },
    {
      "cell_type": "markdown",
      "source": [
        "### Endpoint, object and page size\n",
        "Specify the endpoint you want to search, what objects you expect to get back, and an appropriate page size.\n",
        "\n",
        "Appropriate page size varies by endpoint. For /inventory/items the maximum is around 100, but for /item-storage/items you can get tens of thousands of records at a time."
      ],
      "metadata": {
        "id": "vwfbXE5yqsLH"
      }
    },
    {
      "cell_type": "markdown",
      "source": [
        "# Full list of UUIDs in [FOLIO Locations and Service Points](https://docs.google.com/spreadsheets/d/1EqfmwPf9vAzf9EDJ5Lld9GxB80Nv-1TT34tr1lEPuic/edit#gid=0)\n",
        "\n",
        "Location IDs:\n",
        "*   Clapp microforms - 1st floor (8651492d-9122-4b5e-b135-5e0d448f3726)\n",
        "*   Clapp Stacks (6af5255d-b7f4-4f8f-81c8-080086ae1c6d)\n",
        "*   music cd (permanentLocationId==e46ce021-3fc7-43c8-acfc-26dfcb2b2a3e)\n",
        "*   music seminar room (permanentLocationId==d87be268-d156-4219-85be-c848f720f6a6)\n",
        "*   Online resource (6a4c713b-a233-488a-b992-5f2f43e21a43)\n",
        "*   Art Periodicals (5f82a1d7-8e6e-4626-b94b-aa9ac821037d)\n",
        "\n",
        "Holdings Type Ids:\n",
        "*   Boundwith (814a2c82-ddd1-4f79-a953-28bc0f3397e6)\n",
        "*   Electronic (996f93e2-5b5e-4cf2-9168-33ced1f95eed)\n",
        "*   Monograph (03c9c400-b9e3-4a07-ac0e-05ab470233ed)\n",
        "*   Multi-part monograph (dc35d0ae-e877-488b-8e97-6e41444e6d0a)\n",
        "*   Physical (0c422f92-0f4d-4d32-8cbe-390ebc33a3e5)\n",
        "*   Serial (e6da6c98-6dd0-41bc-8b4b-cfd4bbd9c3ae)\n",
        "*   Unmapped (4effa3a8-c991-4882-b1ee-2ea7c7487820)\n",
        "\n",
        "\n",
        "\n"
      ],
      "metadata": {
        "id": "jwgYZe87ESRS"
      }
    },
    {
      "cell_type": "code",
      "source": [
        "endpoint = \"/holdings-storage/holdings\"\n",
        "record_type = \"holdingsRecords\"\n",
        "page_size = \"1000\"\n",
        "query = '?query=cql.AllRecords=1 AND permanentLocationId==5f82a1d7-8e6e-4626-b94b-aa9ac821037d AND holdingsTypeId==4effa3a8-c991-4882-b1ee-2ea7c7487820' "
      ],
      "metadata": {
        "id": "IWqL2MWhqrfR"
      },
      "execution_count": null,
      "outputs": []
    },
    {
      "cell_type": "markdown",
      "source": [
        "## Get the item data from FOLIO\n",
        "This is where you actually fetch the data from FOLIO. \n",
        "\n",
        "If your question is quite simple, and only requires you to interact with one API, you can do this with one query as in the example below.\n",
        "* What are the titles and barcodes of all the items with this effective location?\n",
        "\n",
        "An example of a more complex question, which requires queries to multiple APIs, could be\n",
        "* What are the names of all users who have ever borrowed a book from x location?"
      ],
      "metadata": {
        "id": "6BGqAAxx1Dha"
      }
    },
    {
      "cell_type": "markdown",
      "source": [
        "### Fetch all items matching your query"
      ],
      "metadata": {
        "id": "pL0HJkKr0lMf"
      }
    },
    {
      "cell_type": "code",
      "source": [
        "# Create an empty list. This is the basket where you will store retrieved items.\n",
        "data = []\n",
        "\n",
        "# Fetch all the results from FOLIO, in batches of whatever your page size is\n",
        "for i, record in enumerate(folio_client.folio_get_all(\n",
        "    path = endpoint, key = record_type, query = query, limit = int(page_size))):\n",
        "  \n",
        "  # Put the results in the basket \n",
        "  data.append(record)\n",
        "\n",
        "  # Print out progress\n",
        "  page_number = int(i / int(page_size))\n",
        "  if (i > 0) and i % int(page_size) == 0:\n",
        "      print(f\"Fetched {i} records in {page_number} pages.\")\n",
        "\n",
        "print(f\"Done! Fetched {i+1} records in {page_number + 1} pages.\\n\")"
      ],
      "metadata": {
        "id": "hMSToIrnPOWs"
      },
      "execution_count": null,
      "outputs": []
    },
    {
      "cell_type": "markdown",
      "source": [
        "## Work with the data\n",
        "There is a lot you can do here: create different tables based on various critera, analyse the content of the data, rename headers, change the content of the data."
      ],
      "metadata": {
        "id": "Mmpch6bd08qw"
      }
    },
    {
      "cell_type": "markdown",
      "source": [
        "### Read the item data into a dataframe and inspect it\n",
        "A dataframe is a table-like structure similar to what you might be used working with in for example Excel."
      ],
      "metadata": {
        "id": "EA7qJLql03G4"
      }
    },
    {
      "cell_type": "code",
      "source": [
        "# Read the json data into a dataframe\n",
        "df = pandas.json_normalize(data)\n",
        "\n",
        "# Inspect the headers in the dataframe\n",
        "df.info()\n",
        "df.head()"
      ],
      "metadata": {
        "id": "RnskccTCVSUe"
      },
      "execution_count": null,
      "outputs": []
    },
    {
      "cell_type": "markdown",
      "source": [
        "UPDATE holdings type on holding record\n"
      ],
      "metadata": {
        "id": "qgoyZzwgQq-M"
      }
    },
    {
      "cell_type": "code",
      "source": [
        "updated_holdings = []\n",
        "\n",
        "for holdings in data:\n",
        "   holdings[\"holdingsTypeId\"] = \"e6da6c98-6dd0-41bc-8b4b-cfd4bbd9c3ae\"\n",
        "   updated_holdings.append(holdings)\n",
        "# Electronic - 996f93e2-5b5e-4cf2-9168-33ced1f95eed\n",
        "# Physical - 0c422f92-0f4d-4d32-8cbe-390ebc33a3e5\n",
        "# Serial - e6da6c98-6dd0-41bc-8b4b-cfd4bbd9c3ae\n",
        "\n",
        "#print(*updated_holdings[:100], sep=\"\\n\") the brackets say how many you will update out of the total; remove to do all; 5000 too many, 3000ok\n",
        "print(*updated_holdings[:3000], sep=\"\\n\")"
      ],
      "metadata": {
        "id": "1yqiq7KFQqKj"
      },
      "execution_count": null,
      "outputs": []
    },
    {
      "cell_type": "code",
      "source": [
        "test_holdings = updated_holdings[:3000]\n",
        "print(test_holdings)"
      ],
      "metadata": {
        "id": "LlNfqgutXziL"
      },
      "execution_count": null,
      "outputs": []
    },
    {
      "cell_type": "code",
      "source": [
        "successfully_updated = 0\n",
        "\n",
        "\n",
        "for i, updated_holding in enumerate(test_holdings):\n",
        "  uuid = updated_holding[\"id\"]\n",
        "  body = updated_holding\n",
        "  response = requests.put(f\"{okapi_url}/holdings-storage/holdings/{uuid}\", json=body, headers=folio_client.okapi_headers)\n",
        "\n",
        "  if response.status_code == 204:\n",
        "      successfully_updated += 1\n",
        "  else:\n",
        "      print(response.status_code, response.text)\n",
        "\n",
        " # Print out progress\n",
        " \n",
        "  if (i > 0) and i % 500 == 0:\n",
        "      print(f\"Completed {i} records.\")\n",
        "\n",
        "print(f\"Successfully updated: {successfully_updated}\")"
      ],
      "metadata": {
        "id": "fQyULHJ-UJUQ"
      },
      "execution_count": null,
      "outputs": []
    }
  ]
}
